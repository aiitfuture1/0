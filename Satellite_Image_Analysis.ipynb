{
 "cells": [
  {
   "cell_type": "markdown",
   "metadata": {},
   "source": [
    "<a href='https://photos.google.com/share/AF1QipMyFRPR0TnHOueGjBakZEKjuyoHX1Tf7iiHz6wvmAecng4mEUuOWPzcrlbRQcXiXQ?key=TXZHWGFkVDJzY1lXUlN0VFVyR1FpazFneHNXODV3&source=ctrlq.org'><img src='https://lh3.googleusercontent.com/yMGxlDjFSK50Jd-KdDvgGa60p-mGqkPXP1Zv7L8x76_MuvesAcRTAC1mi8VuHavKShhdBwtZHJdHfgUkt34iLk27NG9bmFEy9Al9PNbhrxi5wu738fp9xJDqcB6R7utbcCWVU5rZow' alt=\"\" width=\"700\" height=\"250\"/></a>\n",
    "\n",
    "\n",
    "<br>\n",
    "\n",
    "\n",
    "\n",
    "<p style=\"font-family: Arial; font-size:2em;color:#09bef3; font-style:normal; text-align:center; font-weight: bold\"><br>\n",
    "تحليل صور الاقمار الصناعية\n",
    "<br>\n",
    "</p>\n",
    "\n",
    "\n",
    "\n",
    "<p style=\"font-family: Arial; font-size:1.75em;color:#09bef3; font-style:bold; text-align:right\" ><br>مصدر البيانات: صورة ستلايت من مشروع واي فاير</p>\n",
    "\n",
    "<p style=\"font-family: Arial; font-size:1.2em;color:black; font-style:normal; text-align:right\"><br>\n",
    "واي فاير هو نظام تحليل ذكي متكامل لتحليل حرائق الغابات تم انشائه في كاليفورنيا الامريكية وجهز بأنظمة حديثة ومستشعرات دقيقة لرصد تغيرات المناخ التي تحصل في المدن الحديثة والعصرية ووظيفته الاساسية هو التنبؤ بالحرائق قبل حدوثها من خلال دراسة تضاريس المنطقة ومناخها والعوامل الاخرى المسببة للحرائق وبامكانك قرأة المزيد عن هذا المشروع في جامعة كاليفورنيا سان دييغو الامريكية من خلال الرابط التالي\n",
    "</p>\n",
    "\n",
    "<p style=\"font-size:1.2em; color:#09bef3;text-align:center\">\n",
    "\n",
    "https://wifire.ucsd.edu\n",
    "</p>\n",
    "\n",
    "<p style=\"font-family: Arial; font-size:1.2em;color:black; font-style:normal; text-align:right; direction: rtl\"><br>\n",
    "في هذا المشروع سوف نقوم بتحليل بيانات عبارة عن صورة ملتقطة من الاقمار الصناعية لمشروع واي فاير وسوف نقوم بتحليل هذه الصورة بأستخدام مكتبة Numpy</p>\n",
    "\n",
    "\n"
   ]
  },
  {
   "cell_type": "markdown",
   "metadata": {
    "collapsed": true
   },
   "source": [
    "<p style=\"font-family: Arial; font-size:1.75em;color:#09bef3; font-style:bold; text-align:right; direction: rtl\" ><br>\n",
    "سوف نقوم بتحميل المكتبات الثلاثة التالية:\n",
    "\n",
    "</p>\n",
    "\n",
    "<p style=\"font-family: Arial; font-size:1.2em;color:black; font-style:normal; text-align:right; direction: rtl\">\n",
    "1- من اجل فتح الصورة وقرأة بياناتها سوف نحمل مكتبة (imageio)\n",
    "<br>\n",
    "2- من اجل تحليل بيانات الصورة سوف نحمل مكتبة (numpy)\n",
    "<br>\n",
    "3- من اجل عرض الصورة سوف نحمل مكتبة (matplotlib) والتي سنتعلمها لاحقا\n"
   ]
  },
  {
   "cell_type": "code",
   "execution_count": null,
   "metadata": {
    "collapsed": true
   },
   "outputs": [],
   "source": [
    "from scipy import misc            # not all scipy just misc function\n",
    "import numpy as np                \n",
    "import matplotlib.pyplot as plt\n",
    "\n",
    "# to display plots and images inside jupyter notebook\n",
    "%matplotlib inline                "
   ]
  },
  {
   "cell_type": "markdown",
   "metadata": {
    "collapsed": true
   },
   "source": [
    "<p style=\"font-family: Arial; font-size:1.75em;color:#09bef3; font-style:bold; text-align:right; direction: rtl\" ><br>\n",
    "انشاء مصفوفة من ملف الصورة (تحويل بيانات الصورة الى مصفوفة ارقام)\n",
    "</p>\n",
    "\n",
    "\n",
    "<p style=\"font-family: Arial; font-size:1.2em;color:black; font-style:normal; text-align:right; direction: rtl\"><br>\n",
    "\n",
    "الان سوف نفتح الصورة satellite-image والمخزونة في ملف images ثم سوف نخزنها في متغير حتى نستطيع استدعاء الصورة بأسم هذا المتغير\n",
    "</p>\n",
    "\n",
    "<p style=\"font-family: Arial; font-size:1.2em;color:black; font-style:normal; text-align:right; direction: rtl\"><br>\n",
    "\n",
    "سوف نستخدم الوظيفة misc من مكتبة scipy لقرأة هذه الصورة وتحويلها الى مصفوفة من نوع ndarray ولو قمنا بطباعة نوع المتغير الذي انشأناه سنجد ان نوعه ndarray</p>\n"
   ]
  },
  {
   "cell_type": "code",
   "execution_count": null,
   "metadata": {
    "collapsed": true
   },
   "outputs": [],
   "source": [
    "photo_data = misc.imread('images/satellite-image.jpg')\n",
    "\n",
    "type(photo_data)"
   ]
  },
  {
   "cell_type": "markdown",
   "metadata": {},
   "source": [
    "\n",
    "<p style=\"font-family: Arial; font-size:1.2em;color:black; font-style:normal; text-align:right; direction: rtl\"><br>\n",
    " الان لنستعرض الصورة التي قمنا بتحميلها من اجل مشاهدتها بأستخدام وظائف مكتبة matplotlib والتي سنتعلمها في الدورة القادمة وهي واضحه من اسمها لعرض الصورة وتحديد حجم الصورة (انتضر قليلا لان حجم الصورة كبير)\n",
    "</p>"
   ]
  },
  {
   "cell_type": "code",
   "execution_count": null,
   "metadata": {
    "collapsed": true
   },
   "outputs": [],
   "source": [
    "plt.figure(figsize=(15,15))\n",
    "plt.imshow(photo_data)"
   ]
  },
  {
   "cell_type": "markdown",
   "metadata": {},
   "source": [
    "<p style=\"font-family: Arial; font-size:1.2em;color:black; font-style:normal; text-align:right; direction: rtl\"><br>\n",
    "\n",
    "لنقم بطباعة ابعاد الصورة\n",
    "</p>"
   ]
  },
  {
   "cell_type": "code",
   "execution_count": null,
   "metadata": {
    "collapsed": true
   },
   "outputs": [],
   "source": [
    "photo_data.shape\n",
    "\n",
    "#print(photo_data)"
   ]
  },
  {
   "cell_type": "markdown",
   "metadata": {},
   "source": [
    "<p style=\"font-family: Arial; font-size:1.2em;color:black; font-style:normal; text-align:right; direction: rtl\"><br>\n",
    "هذه الثلاث ارقام هي: الرقم الاول هو الطول (عدد الاسطر) والرقم الثاني هو العرض (عدد الاعمدة) والرقم الثالث هو ثلاث طبقات لان هذه صورة RGB احمر اخضر ازرق \n",
    "\n",
    "</p>\n",
    "\n",
    "<p style=\"font-family: Arial; font-size:1.2em;color:black; font-style:normal; text-align:right; direction: rtl\"><br>\n",
    "كل بكسل له لون معين وكل لون يشير الى شيء معين:\n",
    "</p>\n",
    "<p style=\"font-family: Arial; font-size:1.2em;color:red; font-style:normal; text-align:right; direction: rtl\"><br>\n",
    "الاحمر يشير الى الارتفاع </p>\n",
    "<p style=\"font-family: Arial; font-size:1.2em;color:green; font-style:normal; text-align:right; direction: rtl\"><br>\n",
    "الاخضر يشير الى الانحدار</p>\n",
    "<p style=\"font-family: Arial; font-size:1.2em;color:blue; font-style:normal; text-align:right; direction: rtl\"><br>\n",
    "الازرق يشير الى الانبساط</p>\n",
    "\n",
    "\n",
    "<p style=\"font-family: Arial; font-size:1.2em;color:black; font-style:normal; text-align:right; direction: rtl\"><br>\n",
    "\n",
    "ومن المعروف في الصور RGB انه لكل بكسل قيمة هذه القيمة تمثل لون معين وهذه القيمة تتراوح بين 0 - 255 وكلما زادت القيمة كلما زاد الشيء الذي تشير اليه مثلا البكسل الذي لونه احمر وقيمته كبيرة يعني ارتفاع عالي والاخضر يعني منحدر قوي والازرق يعني منبسط جدا\n",
    "\n",
    "</p>\n",
    "\n",
    "<p style=\"font-family: Arial; font-size:1.2em;color:black; font-style:normal; text-align:right; direction: rtl\"><br>\n",
    "\n",
    "الان لنستكشف حجم الصورة\n",
    "</p>"
   ]
  },
  {
   "cell_type": "code",
   "execution_count": null,
   "metadata": {
    "collapsed": true
   },
   "outputs": [],
   "source": [
    "photo_data.size"
   ]
  },
  {
   "cell_type": "markdown",
   "metadata": {},
   "source": [
    "\n",
    "<p style=\"font-family: Arial; font-size:1.2em;color:black; font-style:normal; text-align:right; direction: rtl\"><br>\n",
    "يجب ان نتأكد من انه لايوجد اي خلل في الصورة بحيث تكون قيمة اصغر بكسل 0 واكبر بكسل 255 يعني لايوجد اخطاء في الصورة وايضا بأمكاننا اكتشاف متوسط الارقام كمعدل\n",
    "\n",
    "</p>"
   ]
  },
  {
   "cell_type": "code",
   "execution_count": null,
   "metadata": {
    "collapsed": true
   },
   "outputs": [],
   "source": [
    "photo_data.min(), photo_data.max()"
   ]
  },
  {
   "cell_type": "code",
   "execution_count": null,
   "metadata": {
    "collapsed": true
   },
   "outputs": [],
   "source": [
    "photo_data.mean()"
   ]
  },
  {
   "cell_type": "markdown",
   "metadata": {},
   "source": [
    "<p style=\"font-family: Arial; font-size:1.75em;color:#09bef3; font-style:bold; text-align:right; direction: rtl\" ><br>\n",
    "البكسل في السطر 150 والعمود 250\n",
    "</p>\n",
    "\n",
    "\n",
    "<p style=\"font-family: Arial; font-size:1.2em;color:black; font-style:normal; text-align:right; direction: rtl\"><br>\n",
    "لنختر بكسل معين في الصورة ونقوم بأستكشافه\n",
    "</p>"
   ]
  },
  {
   "cell_type": "code",
   "execution_count": null,
   "metadata": {
    "collapsed": true
   },
   "outputs": [],
   "source": [
    "photo_data[150, 250]"
   ]
  },
  {
   "cell_type": "markdown",
   "metadata": {},
   "source": [
    "<p style=\"font-family: Arial; font-size:1.2em;color:black; font-style:normal; text-align:right; direction: rtl\"><br>\n",
    "هذه البكسل قيمة اللون الاحمر فيه 17 واللون الاخضر 35 والازرق 255\n",
    "</p>\n",
    "<p style=\"font-family: Arial; font-size:1.2em;color:black; font-style:normal; text-align:right; direction: rtl\"><br>\n",
    "ايضا بأمكاننا الوصول الى قيمة اي لون من هذه الالوان بطريقة مباشرة من خلال الاندكس مثلا اللون الاحمر 0 والاخضر 1 والازرق 2 ومن اجل الوصول مباشرة الى اللون الاخضر نكتب موقع البكسل وهو في السطر 150 والعمود 250 واندكس اللون الاخضر هو 1</p>"
   ]
  },
  {
   "cell_type": "code",
   "execution_count": null,
   "metadata": {
    "collapsed": true
   },
   "outputs": [],
   "source": [
    "photo_data[150, 250, 1]"
   ]
  },
  {
   "cell_type": "markdown",
   "metadata": {},
   "source": [
    "<p style=\"font-family: Arial; font-size:1.75em;color:#09bef3; font-style:bold; text-align:right; direction: rtl\" ><br>\n",
    "تغيير جميع قيم الوان البكسل السابق الى صفر\n",
    "\n",
    "</p>\n",
    "\n",
    "<p style=\"font-family: Arial; font-size:1.2em;color:black; font-style:normal; text-align:right; direction: rtl\"><br>\n",
    "بما اننا يمكننا الوصول الى قيم الوان هذا البكسل اذا بأمكاننا تغيير هذه القيم حيث بأمكاننا تغيير قيم الطبقات الثلاثة RGB الى صفر لكن لن يمكننا ملاحظة هذا التغيير في الصورة لانه تغير بكسل واحد فقط لايمكن مشاهدته بالعين المجردة\n",
    "</p>"
   ]
  },
  {
   "cell_type": "code",
   "execution_count": null,
   "metadata": {
    "collapsed": true
   },
   "outputs": [],
   "source": [
    "#photo_data = misc.imread('images/satellite-image.jpg')\n",
    "photo_data[150, 250] = 0\n",
    "plt.figure(figsize=(10,10))\n",
    "plt.imshow(photo_data)"
   ]
  },
  {
   "cell_type": "markdown",
   "metadata": {},
   "source": [
    "<p style=\"font-family: Arial; font-size:1.75em;color:#09bef3; font-style:bold; text-align:right; direction: rtl\" ><br>\n",
    "تغيير قيمة لون معين لمجموعة من البكسلز \n",
    "</p>\n",
    "\n",
    "<p style=\"font-family: Arial; font-size:1.2em;color:black; font-style:normal; text-align:right; direction: rtl\"><br>\n",
    "بأمكاننا تحديد مجموعة من السطور او الاعمدة وتغيير لونها يعني مجموعة بكسلز وليس بكسل واحد فقط وعلى سبيل المثال لنختر من السطر 200 الى 800 ونجعل اللون الاخضر لها اعلى قيمة 255</p>"
   ]
  },
  {
   "cell_type": "code",
   "execution_count": null,
   "metadata": {
    "collapsed": true
   },
   "outputs": [],
   "source": [
    "photo_data = misc.imread('images/satellite-image.jpg')\n",
    "\n",
    "photo_data[200:800, : ,1] = 255\n",
    "plt.figure(figsize=(10,10))\n",
    "plt.imshow(photo_data)"
   ]
  },
  {
   "cell_type": "markdown",
   "metadata": {},
   "source": [
    "<p style=\"font-family: Arial; font-size:1.2em;color:black; font-style:normal; text-align:right; direction: rtl\"><br>\n",
    " ايضا بأمكاننا تغير قيم الالوان الثلاثة معا لاعلى قيمة 255 وفي هذه الحالة سنحصل على اللون الابيض او تغييرها لأقل قيمة وهي 0 وفي هذه الحالة سنحصل على اللون الاسود\n",
    "\n",
    "</p>"
   ]
  },
  {
   "cell_type": "code",
   "execution_count": null,
   "metadata": {
    "collapsed": true
   },
   "outputs": [],
   "source": [
    "photo_data = misc.imread('images/satellite-image.jpg')\n",
    "\n",
    "photo_data[200:800, :] = 255\n",
    "plt.figure(figsize=(10,10))\n",
    "plt.imshow(photo_data)"
   ]
  },
  {
   "cell_type": "code",
   "execution_count": null,
   "metadata": {
    "collapsed": true
   },
   "outputs": [],
   "source": [
    "photo_data = misc.imread('images/satellite-image.jpg')\n",
    "\n",
    "photo_data[200:800, :] = 0\n",
    "plt.figure(figsize=(10,10))\n",
    "plt.imshow(photo_data)"
   ]
  },
  {
   "cell_type": "markdown",
   "metadata": {},
   "source": [
    "<p style=\"font-family: Arial; font-size:1.75em;color:#09bef3; font-style:bold; text-align:right; direction: rtl\" ><br>\n",
    "اختيار جميع البكسلز ذات القيم المنخفضة </p>\n",
    "\n",
    "<p style=\"font-family: Arial; font-size:1.2em;color:black; font-style:normal; text-align:right; direction: rtl\"><br>\n",
    "سوف نعيد تحميل الصورة من جديد لانه قمنا بتغييرات عليها مؤخرا والان نريد نسخة جديدة بدون اي تغيير وسوف نقوم بصناعة متغير يحتوي على جميع البكسلز التي قيمها منخفضة اقل من 200 حيث سيتم خزن جميع هذه القيم في هذا المتغير والذي سوف نسميه low_value_filter والذي سنستخدمه لاستخراج القيم المنخفضة من خلال الفلترة\n",
    "</p>\n"
   ]
  },
  {
   "cell_type": "code",
   "execution_count": null,
   "metadata": {
    "collapsed": true
   },
   "outputs": [],
   "source": [
    "photo_data = misc.imread('images/satellite-image.jpg')\n",
    "print(\"Shape of photo_data:\", photo_data.shape)\n",
    "low_value_filter = photo_data < 200\n",
    "print(\"Shape of low_value_filter:\", low_value_filter.shape)"
   ]
  },
  {
   "cell_type": "markdown",
   "metadata": {},
   "source": [
    "<p style=\"font-family: Arial; font-size:1.75em;color:#09bef3; font-style:bold; text-align:right; direction: rtl\" ><br>\n",
    "فلترة جميع البكسلز ذات القيم المنحفضة\n",
    "</p>\n",
    "\n",
    "<p style=\"font-family: Arial; font-size:1.2em;color:black; font-style:normal; text-align:right; direction: rtl\"><br>\n",
    "الان سوف نقوم بتغيير قيمة كل بكسل قيمته منخفضة الى صفر من خلال استخدام المتغير السابق الذي يحتوي على البكسلز ذات القيم المنخضة واستخدامه كفلتر ومن دون تغير البكسلز ذات القيم العالية لذلك سوف نلاحظ ان الصورة سوف يصبح لونها غامق</p>\n"
   ]
  },
  {
   "cell_type": "code",
   "execution_count": null,
   "metadata": {
    "collapsed": true
   },
   "outputs": [],
   "source": [
    "plt.figure(figsize=(10,10))\n",
    "plt.imshow(photo_data)\n",
    "photo_data[low_value_filter] = 0\n",
    "plt.figure(figsize=(10,10))\n",
    "plt.imshow(photo_data)"
   ]
  },
  {
   "cell_type": "markdown",
   "metadata": {},
   "source": [
    "<p style=\"font-family: Arial; font-size:1.75em;color:#09bef3; font-style:bold; text-align:right; direction: rtl\" ><br>\n",
    "المزيد من العمليات على السطور والاعمدة\n",
    "\n",
    "</p>\n",
    "\n",
    "<p style=\"font-family: Arial; font-size:1.2em;color:black; font-style:normal; text-align:right; direction: rtl\"><br>\n",
    "ايضا بأمكاننا القيام بالعديد من العمليات البسيطة او المعقدة على الصورة حسب الحاجة مثلا لنفترض اننا نريد انشاء علاقة خطية بين السطور والاعمدة ونريد رسم خط ابيض مائل يوضح لنا طول الصورة بالنسبة لعرضها\n",
    "\n",
    "</p>\n",
    "\n",
    "<p style=\"font-family: Arial; font-size:1.2em;color:black; font-style:normal; text-align:right; direction: rtl\"><br>\n",
    "سوق نقوم بأنشاء رينج للسطور طول هذا الرينج هو طول الصورة ومن اجل معرفة طول الصورة سنستخدم الوظيفة len هذا بالنسبة للسطور او الطول اما بالنسبة للعرض فسنجعل العرض الذي يصل اليه هذا الخط هو نفس طول الصورة ثم سندخله في فلتر ونجعل لونه ابيض 255 للثلاث طبقات وللتوضيح نفذ الاكواد التالية وستفهم\n",
    "</p>\n"
   ]
  },
  {
   "cell_type": "code",
   "execution_count": null,
   "metadata": {
    "collapsed": true
   },
   "outputs": [],
   "source": [
    "# arrange\n",
    "rows_range = np.arange(len(photo_data))\n",
    "cols_range = rows_range\n",
    "print(type(rows_range))\n",
    "print(rows_range , cols_range)"
   ]
  },
  {
   "cell_type": "code",
   "execution_count": null,
   "metadata": {
    "collapsed": true
   },
   "outputs": [],
   "source": [
    "# White line\n",
    "photo_data[rows_range, cols_range] = 255"
   ]
  },
  {
   "cell_type": "code",
   "execution_count": null,
   "metadata": {
    "collapsed": true
   },
   "outputs": [],
   "source": [
    "#draw digonal\n",
    "plt.figure(figsize=(15,15))\n",
    "plt.imshow(photo_data)"
   ]
  },
  {
   "cell_type": "markdown",
   "metadata": {},
   "source": [
    "<p style=\"font-family: Arial; font-size:1.75em;color:#09bef3; font-style:bold; text-align:right; direction: rtl\" ><br>\n",
    "اخفاء اجزاء من الصورة\n",
    "</p>\n",
    "\n",
    "<p style=\"font-family: Arial; font-size:1.2em;color:black; font-style:normal; text-align:right; direction: rtl\"><br>\n",
    "لنقم الان بشيء رائع ومتقدم حيث سنقوم بأخفاء اجزاء من الصورة وابقاء قرص دائري منها للتركيز عليه ودراسته ومن اجل القيام بهذه المهمة سوف نحدد قطر لقرص الدائرة وكل نقطة (بكسل) خارج حدود هذه الدائرة سوف نخفيها\n",
    "</p>\n"
   ]
  },
  {
   "cell_type": "markdown",
   "metadata": {},
   "source": [
    "<img src=\"https://lh3.googleusercontent.com/GQvjk9h3QMs7aT-5nV2iMW3Gen7MTqu5nL58manan1JVGTM2t_jK-eZWc1YmzyJ3Ax7FM-7-erEh43EsSDH0Lh8DhkacskGyry0Qd82LbnBzSBYovVr4q2xzrk_ROYDmfTJCZcq-\" align=\"center\" style=\"width:600px;height:600px;\"/>"
   ]
  },
  {
   "cell_type": "markdown",
   "metadata": {},
   "source": [
    "<p style=\"font-family: Arial; font-size:1.2em;color:black; font-style:normal; text-align:right; direction: rtl\"><br>\n",
    "\n",
    "سوف نقوم بأنشاء ثلاث متغيرات قيمة الاول عدد سطور الصورة وقيمة الثاني عدد اعمدة الصورة وقيمة الثالث عدد طبقات الصورة\n",
    "\n",
    "<br>\n",
    "ثم سوف ننشئ متغيرين اخرين وهما X وقيمته مصفوفة حدودها هي حدود طول الصورة ومتغير Y قيمته مصفوفة حدودها حدود عرض الصورة\n",
    "\n",
    "\n",
    "</p>\n"
   ]
  },
  {
   "cell_type": "code",
   "execution_count": null,
   "metadata": {
    "collapsed": true
   },
   "outputs": [],
   "source": [
    "#( 3725   ,  4797     ,      3)\n",
    "total_rows, total_cols, total_layers = photo_data.shape\n",
    "#print(\"photo_data = \", photo_data.shape)\n",
    "\n",
    "X, Y = np.ogrid[:total_rows, :total_cols]\n",
    "print(\"X = \", X.shape, \" and Y = \", Y.shape)\n",
    "#print(X,Y)"
   ]
  },
  {
   "cell_type": "markdown",
   "metadata": {},
   "source": [
    "<p style=\"font-family: Arial; font-size:1.2em;color:black; font-style:normal; text-align:right; direction: rtl\"><br>\n",
    "\n",
    "ايضا سوف ننشئ متغيرين اخرين وهما منتصف السطور (سنتر الصفوف) ومنتصف الاعمدة (سنتر الاعمدة) وسوف نستخدم هذين المتغيرين لأنشاء متغير اسمه المسافة عن السنتر لأيجاد بعد كل نقطة عن السنتر\n",
    "\n",
    "<br>\n",
    "ثم سوف ننشئ متغير اسمه نصف القطر ونصف قطر الدائرة هو المسافة بين مركز الدائرة واي نقطة من محيطها وسوف نحسبه من خلال قانون نصف قطر الدائرة \n",
    "\n",
    "<br>\n",
    "\n",
    "اخر متغير هو قناع للدائرة حيث قيمة هذه المتغير هي فلتر يجد مسافة كل نقطة عن مركز الدائرة فأذا كانت مسافة النقطة عن مركز الدائرة اكبر من نصف القطر يعني هذه النقطة خارج الدائرة\n",
    "\n",
    "<br>\n",
    "\n",
    "بأمكانك الغاء الهاشتاك (الكومنت) لأستكشاف قيمة كل متغير من المتغيرات التي انشأناها\n",
    "</p>\n",
    "\n"
   ]
  },
  {
   "cell_type": "code",
   "execution_count": null,
   "metadata": {
    "collapsed": true
   },
   "outputs": [],
   "source": [
    "center_row, center_col = total_rows / 2, total_cols / 2\n",
    "#print(\"center_row = \", center_row, \"AND center_col = \", center_col)\n",
    "#print(X - center_row)\n",
    "#print(Y - center_col)\n",
    "dist_from_center = (X - center_row)**2 + (Y - center_col)**2\n",
    "#print(dist_from_center)\n",
    "radius = (total_rows / 2)**2\n",
    "#print(\"Radius = \", radius)\n",
    "circular_mask = (dist_from_center > radius)\n",
    "#print(circular_mask)\n",
    "#print(circular_mask[1500:1700,2000:2200])"
   ]
  },
  {
   "cell_type": "markdown",
   "metadata": {},
   "source": [
    "<p style=\"font-family: Arial; font-size:1.2em;color:black; font-style:normal; text-align:right; direction: rtl\"><br>\n",
    "\n",
    "الان سوف نستخدم الفلتر الذي صنعناه وسندخله على الدائرة ونعطي قيمة صفر (اسود) لكل نقطة خارج حدود الدائرة وسوف نحصل على الصورة الدائرية التالية\n",
    "\n",
    "<br> \n",
    "\n",
    "هذه العملية رغم بساطتها الا انها مهمة في مختبرات التحليل ومختبرات الفضاء والمختبرات العلمية الاخرى\n",
    "</p>"
   ]
  },
  {
   "cell_type": "code",
   "execution_count": null,
   "metadata": {
    "collapsed": true
   },
   "outputs": [],
   "source": [
    "photo_data = misc.imread('images/satellite-image.jpg')\n",
    "photo_data[circular_mask] = 0\n",
    "plt.figure(figsize=(15,15))\n",
    "plt.imshow(photo_data)"
   ]
  },
  {
   "cell_type": "markdown",
   "metadata": {},
   "source": [
    "<p style=\"font-family: Arial; font-size:1.75em;color:#09bef3; font-style:bold; text-align:right; direction: rtl\" ><br>\n",
    "انشاء قناع للصورة على شكل نصف قرص</p>\n",
    "\n",
    "<p style=\"font-family: Arial; font-size:1.2em;color:black; font-style:normal; text-align:right; direction: rtl\"><br>\n",
    "\n",
    "ايضا بأمكاننا القيام بمزيد من العمليات مثل انشاء نصف قرص في الاعلى واظهار الجزء السفلي كامل وكما شرحنا سابقا ان هذه الامور حسب الحاجة ربما تحتاج الى هذه العملية في عملك مستقبلا وربما تحتاج الى عملية مشابهة او عملية اخرى وهذا الشرح والامثلة فقط لاعطائك فكرة كيف بامكاننا التعديل والقيام بمزيد من العمليات مثلا هكذا نوع من العمليات دائما يستخدم في المختبرات الطبية \n",
    "\n",
    "</p>\n",
    "\n",
    "<p style=\"font-family: Arial; font-size:1.2em;color:black; font-style:normal; text-align:right; direction: rtl\"><br>\n",
    "\n",
    "من اجل صناعة نصف قرص علوي في الصورة سوف نحدد X, Y التي شرحنا وظيفتها سابقا ثم سوف ننشئ متغير اسمه النصف العلوي وقيمته فلتر يجد كل نقطة فوق منتصف الصورة\n",
    "\n",
    "<br>\n",
    "\n",
    "ثم سوف نصنع قناع جديد للصورة قيمته فلترين حيث الفلتر الاول هو ان تكون النقطة في النصف العلوي للصورة and ان تكون النقطة ضمن حدود الدائرة \n",
    "</p>\n"
   ]
  },
  {
   "cell_type": "code",
   "execution_count": null,
   "metadata": {
    "collapsed": true
   },
   "outputs": [],
   "source": [
    "X, Y = np.ogrid[:total_rows, :total_cols]\n",
    "half_upper = X < center_row # this line generates a mask for all rows above the center\n",
    "#half_lower = X > center_row \n",
    "half_upper_mask = np.logical_and(half_upper, circular_mask)"
   ]
  },
  {
   "cell_type": "code",
   "execution_count": null,
   "metadata": {
    "collapsed": true
   },
   "outputs": [],
   "source": [
    "photo_data = misc.imread('images/satellite-image.jpg')\n",
    "photo_data[half_upper_mask] = 255\n",
    "plt.figure(figsize=(15,15))\n",
    "plt.imshow(photo_data)"
   ]
  },
  {
   "cell_type": "markdown",
   "metadata": {
    "collapsed": true
   },
   "source": [
    "<H1 style=\"font-family: Arial; color:#09bef3; font-style:bold; text-align:right; direction: rtl\" ><br>\n",
    "المزيد من عمليات تحليل صورة القمر الصناعي\n",
    "\n",
    "</H1>\n",
    "\n",
    "<p style=\"font-family: Arial; font-size:1.75em;color:#09bef3; font-style:bold; text-align:right; direction: rtl\" ><br>\n",
    "تحليل النقاط (البكسلز) الحمراء في الصورة \n",
    "\n",
    "</p>\n",
    "\n",
    "<p style=\"font-family: Arial; font-size:1.2em;color:black; font-style:normal; text-align:right; direction: rtl\"><br>\n",
    "\n",
    "كما شرحنا في بداية هذا المشروع ان الون الاحمر يشير الى المناطق المرتفعة والان سوف نقوم بتحديد هذه المناطق المرتفعة في الصورة من خلال تحديد النقاط (البكسلز) التي قيمة اللون الاحمر فيها عالي اكثر من 150 ومن اجل صب التركيز عليها سوف نقوم بإطفاء باللون الاسود جميع البكسلز التي قيمة اللون الاحمر فيها اقل من 150\n",
    "</p>\n",
    "\n"
   ]
  },
  {
   "cell_type": "code",
   "execution_count": null,
   "metadata": {
    "collapsed": true
   },
   "outputs": [],
   "source": [
    "photo_data = misc.imread('images/satellite-image.jpg')\n",
    "# [all row , all columns, red color] < 150\n",
    "red_mask   = photo_data[:, : ,0] < 150\n",
    "\n",
    "photo_data[red_mask] = 0\n",
    "plt.figure(figsize=(15,15))\n",
    "plt.imshow(photo_data)"
   ]
  },
  {
   "cell_type": "markdown",
   "metadata": {},
   "source": [
    "<p style=\"font-family: Arial; font-size:1.75em;color:#09bef3; font-style:bold; text-align:right; direction: rtl\" ><br>\n",
    "كشف المناطق ذات الانحدار القوي\n",
    "</p>\n",
    "\n",
    "<p style=\"font-family: Arial; font-size:1.2em;color:black; font-style:normal; text-align:right; direction: rtl\"><br>\n",
    "\n",
    "كما تعلمنا في بداية هذا المشروع ان اللون الاخضر يشير الى الانحدار وبنفس الطريقة السابقة التي حددنا فيها الاحمر العالي سوف نحدد الان جميع البكسلز التي قيمة اللون الاخضر فيها عالي (انحدار قوي) \n",
    "\n",
    "</p>\n",
    "\n"
   ]
  },
  {
   "cell_type": "code",
   "execution_count": null,
   "metadata": {
    "collapsed": true
   },
   "outputs": [],
   "source": [
    "photo_data = misc.imread('images/satellite-image.jpg')\n",
    "green_mask = photo_data[:, : ,1] < 150\n",
    "\n",
    "photo_data[green_mask] = 0\n",
    "plt.figure(figsize=(15,15))\n",
    "plt.imshow(photo_data)"
   ]
  },
  {
   "cell_type": "markdown",
   "metadata": {},
   "source": [
    "<p style=\"font-family: Arial; font-size:1.75em;color:#09bef3; font-style:bold; text-align:right; direction: rtl\" ><br>\n",
    "كشف المناطق المنبسطة جدا\n",
    "</p>\n",
    "\n",
    "<p style=\"font-family: Arial; font-size:1.2em;color:black; font-style:normal; text-align:right; direction: rtl\"><br>\n",
    "\n",
    "كما تعلمنا في بداية هذا المشروع ان اللون الازرق يشير الى المناطق المنبسطة وبنفس الطريقة السابقة التي حددنا فيها الاحمر العالي والاخضر العالي سوف نحدد الان جميع البكسلز التي قيمة اللون الازرق فيها عالي (منبسطة جدا) \n",
    "\n",
    "</p>\n"
   ]
  },
  {
   "cell_type": "code",
   "execution_count": null,
   "metadata": {
    "collapsed": true
   },
   "outputs": [],
   "source": [
    "photo_data = misc.imread('images/satellite-image.jpg')\n",
    "blue_mask  = photo_data[:, : ,2] < 150\n",
    "\n",
    "photo_data[blue_mask] = 0\n",
    "plt.figure(figsize=(15,15))\n",
    "plt.imshow(photo_data)"
   ]
  },
  {
   "cell_type": "markdown",
   "metadata": {},
   "source": [
    "<p style=\"font-family: Arial; font-size:1.75em;color:#09bef3; font-style:bold; text-align:right; direction: rtl\" ><br>\n",
    "انشاء فلتر مركب للطبقات الثلاث احمر واخضر وازرق\n",
    "</p>\n",
    "\n",
    "<p style=\"font-family: Arial; font-size:1.2em;color:black; font-style:normal; text-align:right; direction: rtl\"><br>\n",
    "\n",
    "بأمكاننا انشاء قناع مركب يستخدم الفلاتر الثلاث التي صنعناها وعلى سبيل المثال نريد اظهار جميع البكسلز في الصورة التي فيها ارتفاع عالي (احمر اكثر من 150) وانحدار بسيط (اخضر اقل من 100) وانبساط معتدل (ازرق اكثر من 100) ودمج هذه الفلاتر الثلاث في متغير اسمه final_mask بأستخدام and المنطقية \n",
    "\n",
    "</p>\n"
   ]
  },
  {
   "cell_type": "code",
   "execution_count": null,
   "metadata": {
    "collapsed": true
   },
   "outputs": [],
   "source": [
    "photo_data = misc.imread('images/satellite-image.jpg')\n",
    "\n",
    "red_mask   = photo_data[:, : ,0] < 150\n",
    "green_mask = photo_data[:, : ,1] > 100\n",
    "blue_mask  = photo_data[:, : ,2] < 100\n",
    "\n",
    "final_mask = np.logical_and(red_mask, green_mask, blue_mask)\n",
    "photo_data[final_mask] = 0\n",
    "plt.figure(figsize=(15,15))\n",
    "plt.imshow(photo_data)"
   ]
  },
  {
   "cell_type": "markdown",
   "metadata": {},
   "source": [
    "<br>\n",
    "\n",
    "<p style=\"font-family: Arial;font-size:5em; color:#09bef3; font-style:bold; text-align:center\">\n",
    "Congratulations\n",
    "</p>\n",
    "<br>\n",
    "<p style=\"font-family: Arial; font-size:1.2em;color:black; font-style:normal; text-align:right\"><br>\n",
    "\n",
    "تهانينا لقد قمت بعمل عظيم حيث اصبح الان بأمكانك استكشاف اي صورة وتحليل بياناتها ونحن نحثك ونشجعك على فتح صور علمية مثل صور اجهزة السونار الطبي او صور الفضاء او صور الاقمار الصناعية والقيام بتحليلها واستكشافها واستخراج النتائج منها ونتمنى ان تكون قد تعلمت كثيرا من هذا المشروع واستمتعت بتنفيذه والعمل عليه\n",
    "\n",
    "</p>"
   ]
  },
  {
   "cell_type": "markdown",
   "metadata": {
    "collapsed": true
   },
   "source": [
    "###### © Copyright Gulf Institute of Technology "
   ]
  }
 ],
 "metadata": {
  "kernelspec": {
   "display_name": "Python 3",
   "language": "python",
   "name": "python3"
  },
  "language_info": {
   "codemirror_mode": {
    "name": "ipython",
    "version": 3
   },
   "file_extension": ".py",
   "mimetype": "text/x-python",
   "name": "python",
   "nbconvert_exporter": "python",
   "pygments_lexer": "ipython3",
   "version": "3.6.2"
  }
 },
 "nbformat": 4,
 "nbformat_minor": 2
}
